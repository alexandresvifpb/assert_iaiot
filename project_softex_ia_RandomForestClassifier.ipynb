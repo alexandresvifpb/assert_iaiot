{
  "nbformat": 4,
  "nbformat_minor": 0,
  "metadata": {
    "colab": {
      "provenance": [],
      "authorship_tag": "ABX9TyMd0ew45TUFI2xJVUF/IS6n",
      "include_colab_link": true
    },
    "kernelspec": {
      "name": "python3",
      "display_name": "Python 3"
    },
    "language_info": {
      "name": "python"
    }
  },
  "cells": [
    {
      "cell_type": "markdown",
      "metadata": {
        "id": "view-in-github",
        "colab_type": "text"
      },
      "source": [
        "<a href=\"https://colab.research.google.com/github/alexandresvifpb/assert_iaiot/blob/main/project_softex_ia_RandomForestClassifier.ipynb\" target=\"_parent\"><img src=\"https://colab.research.google.com/assets/colab-badge.svg\" alt=\"Open In Colab\"/></a>"
      ]
    },
    {
      "cell_type": "code",
      "execution_count": 1,
      "metadata": {
        "id": "9E0IVNCRkSiq"
      },
      "outputs": [],
      "source": [
        "import pandas as pd\n",
        "\n",
        "# Carregar os dados\n",
        "url = 'https://raw.githubusercontent.com/alexandresvifpb/assert_iaiot/main/letter-recognition.data'\n",
        "letter_recognition = pd.read_csv(url, header=None, names=['lettr', 'x-box', 'y-box', 'width', 'high', 'onpix', 'x-bar', 'y-bar', 'x2bar', 'y2bar', 'xybar', 'x2ybr', 'xy2br', 'x-ege', 'xegvy', 'y-ege', 'yegvx'])\n",
        "# print(letter_recognition)"
      ]
    },
    {
      "cell_type": "code",
      "source": [
        "from sklearn.preprocessing import LabelEncoder, MinMaxScaler\n",
        "\n",
        "# 2.1. Verificar e remover valores nulos\n",
        "letter_recognition = letter_recognition.dropna()\n",
        "# print(\"numero de linhas sem valores nulos: \",len(letter_recognition))\n",
        "\n",
        "# 2.2. Converter labels para números\n",
        "label_encoder = LabelEncoder()\n",
        "letter_recognition['lettr'] = label_encoder.fit_transform(letter_recognition['lettr'])\n",
        "\n",
        "# 2.3. Verificar se existe correspondência entre features\n",
        "import seaborn as sns\n",
        "import matplotlib.pyplot as plt\n",
        "\n",
        "correlation_matrix = letter_recognition.corr()\n",
        "\n",
        "# Criar um mapa de calor\n",
        "plt.figure(figsize=(12, 8))\n",
        "sns.heatmap(correlation_matrix, annot=True, cmap='coolwarm', fmt=\".2f\")\n",
        "plt.title(\"Matriz de Correlação Letter Recognition\")\n",
        "plt.show()\n",
        "\n",
        "# 2.4. Normalizar as features na escala 0..1\n",
        "scaler = MinMaxScaler()\n",
        "letter_recognition_scaled = pd.DataFrame(scaler.fit_transform(letter_recognition.drop(columns=['lettr'])), columns=letter_recognition.columns[1:])\n",
        "\n",
        "# Concatenar os labels (lettr) com as features normalizadas\n",
        "letter_recognition_processed = pd.concat([letter_recognition['lettr'], letter_recognition_scaled], axis=1)\n",
        "# print(\"\\nDataset após pré-processamento:\\n\", letter_recognition_processed.head())"
      ],
      "metadata": {
        "id": "ICzHcbPYlJbw"
      },
      "execution_count": null,
      "outputs": []
    },
    {
      "cell_type": "code",
      "source": [
        "# 3.1 Gráfico de barras por classes\n",
        "# Contar a quantidade de instâncias por classe\n",
        "class_counts = letter_recognition['lettr'].value_counts()\n",
        "\n",
        "# Criar um gráfico de barras\n",
        "plt.figure(figsize=(12, 6))\n",
        "sns.barplot(x=class_counts.index, y=class_counts.values, palette='viridis')\n",
        "plt.title('Quantidade de Instâncias por Classe')\n",
        "plt.xlabel('Classe')\n",
        "plt.ylabel('Quantidade')\n",
        "plt.show()\n",
        "\n",
        "# 3.2. Gráfico de dispersão com linha de regressão\n",
        "plt.figure(figsize=(12, 6))\n",
        "sns.regplot(x='x-box', y='lettr', data=letter_recognition, scatter_kws={'s': 20, 'alpha': 0.5}, line_kws={'color': 'red'})\n",
        "plt.title('Gráfico de Dispersão com Linha de Regressão')\n",
        "plt.xlabel('x-box')\n",
        "plt.ylabel('lettr')\n",
        "plt.show()\n",
        "\n",
        "# 3.3. Gráfico de distribuição (histograma)\n",
        "plt.figure(figsize=(10, 6))\n",
        "sns.histplot(letter_recognition['x-box'], bins=30, color='skyblue', kde=True)\n",
        "plt.title('Histograma da Feature x-box')\n",
        "plt.xlabel('x-box')\n",
        "plt.ylabel('Frequência')\n",
        "plt.show()"
      ],
      "metadata": {
        "id": "BG3VT1zjlQc_"
      },
      "execution_count": null,
      "outputs": []
    },
    {
      "cell_type": "code",
      "source": [
        "from sklearn.model_selection import train_test_split\n",
        "from sklearn.model_selection import cross_val_score\n",
        "from sklearn.ensemble import RandomForestClassifier\n",
        "from sklearn.metrics import accuracy_score\n",
        "\n",
        "# 4.1 Separar os dados de treinamento e teste (80% e 20%)\n",
        "X = letter_recognition_processed.drop(columns=['lettr'])\n",
        "y = letter_recognition_processed['lettr']\n",
        "X_train, X_test, y_train, y_test = train_test_split(X, y, test_size=0.2, random_state=42)\n",
        "\n",
        "# 4.2 Treinar os modelos Random Forest para classificação\n",
        "# Modelo Random Forest 1\n",
        "rf_model1 = RandomForestClassifier(n_estimators=100, random_state=42)\n",
        "rf_model1.fit(X_train, y_train)\n",
        "\n",
        "# Modelo Random Forest 2\n",
        "rf_model2 = RandomForestClassifier(n_estimators=200, max_depth=10, random_state=42)\n",
        "rf_model2.fit(X_train, y_train)\n",
        "\n",
        "# 4.3 Avaliar a acurácia usando accuracy_score\n",
        "y_pred_model1 = rf_model1.predict(X_test)\n",
        "accuracy_model1 = accuracy_score(y_test, y_pred_model1)\n",
        "\n",
        "y_pred_model2 = rf_model2.predict(X_test)\n",
        "accuracy_model2 = accuracy_score(y_test, y_pred_model2)\n",
        "\n",
        "# 4.4 Apresentar a acurácia dos modelos\n",
        "print(f'Acurácia para Random Forest Modelo 1: {accuracy_model1:.3%}')\n",
        "print(f'Acurácia para Random Forest Modelo 2: {accuracy_model2:.3%}')"
      ],
      "metadata": {
        "colab": {
          "base_uri": "https://localhost:8080/"
        },
        "id": "UYQedqKmlYDF",
        "outputId": "1af99a84-f87c-4b3d-a7de-9776096dd121"
      },
      "execution_count": 5,
      "outputs": [
        {
          "output_type": "stream",
          "name": "stdout",
          "text": [
            "Acurácia para Random Forest Modelo 1: 96.100%\n",
            "Acurácia para Random Forest Modelo 2: 86.750%\n"
          ]
        }
      ]
    }
  ]
}