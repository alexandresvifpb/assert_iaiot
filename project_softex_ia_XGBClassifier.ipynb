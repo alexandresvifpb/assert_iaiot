{
  "nbformat": 4,
  "nbformat_minor": 0,
  "metadata": {
    "colab": {
      "provenance": [],
      "authorship_tag": "ABX9TyNry++/6aP5SP1IUWLf1uMQ",
      "include_colab_link": true
    },
    "kernelspec": {
      "name": "python3",
      "display_name": "Python 3"
    },
    "language_info": {
      "name": "python"
    }
  },
  "cells": [
    {
      "cell_type": "markdown",
      "metadata": {
        "id": "view-in-github",
        "colab_type": "text"
      },
      "source": [
        "<a href=\"https://colab.research.google.com/github/alexandresvifpb/assert_iaiot/blob/main/project_softex_ia_XGBClassifier.ipynb\" target=\"_parent\"><img src=\"https://colab.research.google.com/assets/colab-badge.svg\" alt=\"Open In Colab\"/></a>"
      ]
    },
    {
      "cell_type": "code",
      "execution_count": 5,
      "metadata": {
        "id": "bHDC0DkW0Jr-"
      },
      "outputs": [],
      "source": [
        "import pandas as pd\n",
        "\n",
        "# Carregar os dados\n",
        "url = 'https://raw.githubusercontent.com/alexandresvifpb/assert_iaiot/main/letter-recognition.data'\n",
        "letter_recognition = pd.read_csv(url, header=None, names=['lettr', 'x-box', 'y-box', 'width', 'high', 'onpix', 'x-bar', 'y-bar', 'x2bar', 'y2bar', 'xybar', 'x2ybr', 'xy2br', 'x-ege', 'xegvy', 'y-ege', 'yegvx'])\n",
        "# print(letter_recognition)"
      ]
    },
    {
      "cell_type": "code",
      "source": [
        "from sklearn.preprocessing import LabelEncoder, MinMaxScaler\n",
        "\n",
        "# 2.1. Verificar e remover valores nulos\n",
        "letter_recognition = letter_recognition.dropna()\n",
        "# print(\"numero de linhas sem valores nulos: \",len(letter_recognition))\n",
        "\n",
        "# 2.2. Converter labels para números\n",
        "label_encoder = LabelEncoder()\n",
        "letter_recognition['lettr'] = label_encoder.fit_transform(letter_recognition['lettr'])\n",
        "\n",
        "# 2.3. Verificar se existe correspondência entre features\n",
        "import seaborn as sns\n",
        "import matplotlib.pyplot as plt\n",
        "\n",
        "correlation_matrix = letter_recognition.corr()\n",
        "\n",
        "# Criar um mapa de calor\n",
        "plt.figure(figsize=(12, 8))\n",
        "sns.heatmap(correlation_matrix, annot=True, cmap='coolwarm', fmt=\".2f\")\n",
        "plt.title(\"Matriz de Correlação Letter Recognition\")\n",
        "plt.show()\n",
        "\n",
        "# 2.4. Normalizar as features na escala 0..1\n",
        "scaler = MinMaxScaler()\n",
        "letter_recognition_scaled = pd.DataFrame(scaler.fit_transform(letter_recognition.drop(columns=['lettr'])), columns=letter_recognition.columns[1:])\n",
        "\n",
        "# Concatenar os labels (lettr) com as features normalizadas\n",
        "letter_recognition_processed = pd.concat([letter_recognition['lettr'], letter_recognition_scaled], axis=1)\n",
        "# print(\"\\nDataset após pré-processamento:\\n\", letter_recognition_processed.head())"
      ],
      "metadata": {
        "id": "I2BSq03I0ajE"
      },
      "execution_count": null,
      "outputs": []
    },
    {
      "cell_type": "code",
      "source": [
        "# 3.1 Gráfico de barras por classes\n",
        "# Contar a quantidade de instâncias por classe\n",
        "class_counts = letter_recognition['lettr'].value_counts()\n",
        "\n",
        "# Criar um gráfico de barras\n",
        "plt.figure(figsize=(12, 6))\n",
        "sns.barplot(x=class_counts.index, y=class_counts.values, palette='viridis')\n",
        "plt.title('Quantidade de Instâncias por Classe')\n",
        "plt.xlabel('Classe')\n",
        "plt.ylabel('Quantidade')\n",
        "plt.show()\n",
        "\n",
        "# 3.2. Gráfico de dispersão com linha de regressão\n",
        "plt.figure(figsize=(12, 6))\n",
        "sns.regplot(x='x-box', y='lettr', data=letter_recognition, scatter_kws={'s': 20, 'alpha': 0.5}, line_kws={'color': 'red'})\n",
        "plt.title('Gráfico de Dispersão com Linha de Regressão')\n",
        "plt.xlabel('x-box')\n",
        "plt.ylabel('lettr')\n",
        "plt.show()\n",
        "\n",
        "# 3.3. Gráfico de distribuição (histograma)\n",
        "plt.figure(figsize=(10, 6))\n",
        "sns.histplot(letter_recognition['x-box'], bins=30, color='skyblue', kde=True)\n",
        "plt.title('Histograma da Feature x-box')\n",
        "plt.xlabel('x-box')\n",
        "plt.ylabel('Frequência')\n",
        "plt.show()"
      ],
      "metadata": {
        "id": "o-Up6fze0ip_"
      },
      "execution_count": null,
      "outputs": []
    },
    {
      "cell_type": "code",
      "source": [
        "from sklearn.model_selection import train_test_split\n",
        "from sklearn.metrics import accuracy_score\n",
        "from sklearn.model_selection import cross_val_score\n",
        "import xgboost as xgb\n",
        "import numpy as np\n",
        "\n",
        "# 4.1 Separar os dados de treinamento e teste (80% e 20%)\n",
        "X = letter_recognition_processed.drop(columns=['lettr'])\n",
        "y = letter_recognition_processed['lettr']\n",
        "X_train, X_test, y_train, y_test = train_test_split(X, y, test_size=0.2, random_state=42)\n",
        "\n",
        "# 4.2 Treinar os modelos XGBoost\n",
        "# Modelo XGBoost 1\n",
        "xgb_model1 = xgb.XGBClassifier(objective='multi:softmax', num_class=len(np.unique(y)), random_state=42)\n",
        "xgb_model1.fit(X_train, y_train)\n",
        "\n",
        "# Modelo XGBoost 2\n",
        "xgb_model2 = xgb.XGBClassifier(objective='multi:softmax', num_class=len(np.unique(y)), max_depth=10, learning_rate=0.05, random_state=42)\n",
        "xgb_model2.fit(X_train, y_train)\n",
        "\n",
        "# 4.3 Executar 10 vezes o Train-Test-Split\n",
        "num_executions = 2\n",
        "accuracies_xgb_model1 = cross_val_score(xgb_model1, X, y, cv=num_executions, scoring='accuracy')\n",
        "accuracies_xgb_model2 = cross_val_score(xgb_model2, X, y, cv=num_executions, scoring='accuracy')\n",
        "\n",
        "# 4.4 Apresentar a média das 10 execuções dos resultados de acurácia de todos os modelos\n",
        "mean_accuracy_xgb_model1 = accuracies_xgb_model1.mean()\n",
        "mean_accuracy_xgb_model2 = accuracies_xgb_model2.mean()\n",
        "\n",
        "print(f'Média de Acurácia para XGBoost Modelo 1: {mean_accuracy_xgb_model1:.3%}')\n",
        "print(f'Média de Acurácia para XGBoost Modelo 2: {mean_accuracy_xgb_model2:.3%}')"
      ],
      "metadata": {
        "colab": {
          "base_uri": "https://localhost:8080/"
        },
        "id": "tXhfGIlV0pal",
        "outputId": "2a39e1e4-dbd1-4378-e6a0-0870217742de"
      },
      "execution_count": 9,
      "outputs": [
        {
          "output_type": "stream",
          "name": "stdout",
          "text": [
            "Média de Acurácia para XGBoost Modelo 1: 94.590%\n",
            "Média de Acurácia para XGBoost Modelo 2: 92.845%\n"
          ]
        }
      ]
    }
  ]
}