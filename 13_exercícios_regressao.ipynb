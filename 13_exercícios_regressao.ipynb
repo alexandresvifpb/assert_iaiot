{
  "nbformat": 4,
  "nbformat_minor": 0,
  "metadata": {
    "colab": {
      "provenance": [],
      "include_colab_link": true
    },
    "kernelspec": {
      "name": "python3",
      "display_name": "Python 3"
    },
    "language_info": {
      "name": "python"
    }
  },
  "cells": [
    {
      "cell_type": "markdown",
      "metadata": {
        "id": "view-in-github",
        "colab_type": "text"
      },
      "source": [
        "<a href=\"https://colab.research.google.com/github/alexandresvifpb/assert_iaiot/blob/main/13_exerc%C3%ADcios_regressao.ipynb\" target=\"_parent\"><img src=\"https://colab.research.google.com/assets/colab-badge.svg\" alt=\"Open In Colab\"/></a>"
      ]
    },
    {
      "cell_type": "code",
      "execution_count": 10,
      "metadata": {
        "id": "_3zNAo4jbCKF",
        "outputId": "e0d39963-35d0-4a26-d2fe-2ab298f7488e",
        "colab": {
          "base_uri": "https://localhost:8080/"
        }
      },
      "outputs": [
        {
          "output_type": "stream",
          "name": "stdout",
          "text": [
            "Linear Model - MSE: 2.19, MAE: 1.09, RMSE: 1.48\n",
            "Decision Tree - MSE: 2.20, MAE: 1.15, RMSE: 1.48\n",
            "KNN Model - MSE: 6.57, MAE: 1.99, RMSE: 2.56\n"
          ]
        }
      ],
      "source": [
        "## Exercício 1 - Dataset car_crashes do seaborn\n",
        "import seaborn as sns\n",
        "\n",
        "# 1) Carregar o dataset \"car_crashes\"do seaborn\n",
        "car_crashes = sns.load_dataset('car_crashes')\n",
        "# print(car_crashes)\n",
        "\n",
        "# 2) Dropar a coluna \"abbrev\"\n",
        "car_crashes = car_crashes.drop(columns=['abbrev'])\n",
        "# print(car_crashes)\n",
        "\n",
        "# 3) Separar o dataframe, deixando a coluna 'total' para o target (coluna objetivo - y) e o restante para o X\n",
        "X = car_crashes.drop(columns=['total'])\n",
        "y = car_crashes['total']\n",
        "\n",
        "# 4) Normalizar todo o X\n",
        "from sklearn.preprocessing import MinMaxScaler\n",
        "scaler = MinMaxScaler()\n",
        "X_normalized = scaler.fit_transform(X)\n",
        "\n",
        "# x = X.values\n",
        "# min_max_scaler = preprocessing.MinMaxScaler()\n",
        "# x_scaled = min_max_scaler.fit_transform(x)\n",
        "# df = pd.DataFrame(x_scaled)\n",
        "\n",
        "# 5) Separar os dados em treinamento e teste\n",
        "from sklearn.model_selection import train_test_split\n",
        "X_train, X_test, y_train, y_test = train_test_split(X_normalized, y, test_size=0.2, random_state=42)\n",
        "\n",
        "# 6) Treinar um modelo linear\n",
        "from sklearn.linear_model import LinearRegression\n",
        "linear_model = LinearRegression()\n",
        "linear_model.fit(X_train, y_train)\n",
        "\n",
        "# 7) Treinar uma árvores de regressão\n",
        "from sklearn.tree import DecisionTreeRegressor\n",
        "tree_model = DecisionTreeRegressor()\n",
        "tree_model.fit(X_train, y_train)\n",
        "\n",
        "# 8) Treinar um KNN para regressão\n",
        "from sklearn.neighbors import KNeighborsRegressor\n",
        "knn_model = KNeighborsRegressor()\n",
        "knn_model.fit(X_train, y_train)\n",
        "\n",
        "# 9) Apresentar os resultados dos erros usando: MSE, MAE e RMSE para os 3 modelos\n",
        "from sklearn.metrics import mean_squared_error, mean_absolute_error\n",
        "import numpy as np\n",
        "def calculate_metrics(model, X_test, y_test):\n",
        "    y_pred = model.predict(X_test)\n",
        "    mse = mean_squared_error(y_test, y_pred)\n",
        "    mae = mean_absolute_error(y_test, y_pred)\n",
        "    rmse = np.sqrt(mse)\n",
        "    return mse, mae, rmse\n",
        "\n",
        "linear_mse, linear_mae, linear_rmse = calculate_metrics(linear_model, X_test, y_test)\n",
        "tree_mse, tree_mae, tree_rmse = calculate_metrics(tree_model, X_test, y_test)\n",
        "knn_mse, knn_mae, knn_rmse = calculate_metrics(knn_model, X_test, y_test)\n",
        "\n",
        "print(f'Linear Model - MSE: {linear_mse:.2f}, MAE: {linear_mae:.2f}, RMSE: {linear_rmse:.2f}')\n",
        "print(f'Decision Tree - MSE: {tree_mse:.2f}, MAE: {tree_mae:.2f}, RMSE: {tree_rmse:.2f}')\n",
        "print(f'KNN Model - MSE: {knn_mse:.2f}, MAE: {knn_mae:.2f}, RMSE: {knn_rmse:.2f}')\n"
      ]
    },
    {
      "cell_type": "code",
      "source": [
        "## Exercício 2 - Dataset Parkinsons (dataset com 2 classes)\n",
        "\n",
        "# 1) Carregar o dataset \"parkinsons\" pela URL abaixo:\n",
        "\n",
        "# url = \"https://raw.githubusercontent.com/tmoura/machinelearning/master/parkinsons.data\"\n",
        "\n",
        "# 2) Separar os dados y e X. A coluna y é a coluna 0 (zero)\n",
        "# 3) Normalizar todas as colunas de X (usando o mesmo código da questão anterior)\n",
        "# 4) Separar oa dados em treinamento e teste\n",
        "# 5) Treinar um modelo de regressão logística\n",
        "# 6) Treinar uma árvore de decisão\n",
        "# 7) Treinar um KNN para classificação\n",
        "# 8) Apresentar os resultados de acurárica em percentual"
      ],
      "metadata": {
        "id": "NecXgZ5iytCc"
      },
      "execution_count": null,
      "outputs": []
    },
    {
      "cell_type": "code",
      "source": [
        "## Exercício 3 - Dataset attention do seaborn\n",
        "\n",
        "# 1) Carregar o dataset \"attention\" do seaborn\n",
        "# 2) Fazer um LabelEncoder na coluna \"attention\"\n",
        "# 3) Separar o dataframe, deixando a coluna 'attention' para o target (coluna objetivo - y) e o restante para o X\n",
        "# 4) Normalizar todo o X\"usando o mesmo código da questão 1\n",
        "# 5) Separar os dados em treinamento e teste\n",
        "# 6) Treinar um modelo de regressão logística\n",
        "# 7) Treinar uma árvore de decisão\n",
        "# 8) Treinar um KNN para classificação\n",
        "# 9) Apresentar os resultados de acurárica em percentual"
      ],
      "metadata": {
        "id": "1PAlFH5Au-11"
      },
      "execution_count": null,
      "outputs": []
    }
  ]
}